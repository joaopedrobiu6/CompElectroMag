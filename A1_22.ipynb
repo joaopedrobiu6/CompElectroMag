{
 "cells": [
  {
   "cell_type": "markdown",
   "metadata": {},
   "source": [
    "2.2 Implement the calculation of a matrix-matrix multiplication A*B = C, where A, B, and C are NxN matrices using Python using \n",
    "1) loops (naive implementation) \n",
    "2) using np.matmul from NumPy"
   ]
  },
  {
   "cell_type": "code",
   "execution_count": null,
   "metadata": {},
   "outputs": [],
   "source": [
    "# First Naive Implementation of the algorithm\n",
    "import numpy as np \n",
    "import matplotlib.pyplot as plt\n",
    "import time as time \n",
    "\n",
    "def RandomMatrix(Nrows, Ncols):\n",
    "    return np.random.rand(Nrows, Ncols)"
   ]
  },
  {
   "cell_type": "markdown",
   "metadata": {},
   "source": [
    "# 2.2 - 1) Complexity analysis of the naive and NumPy-based implementation of matrix-matrix multiplication"
   ]
  },
  {
   "cell_type": "code",
   "execution_count": null,
   "metadata": {},
   "outputs": [],
   "source": [
    "def MatrixMultiplication_Naive(A, B):\n",
    "    Nrows = A.shape[0]\n",
    "    Ncols = B.shape[1]\n",
    "    C = np.zeros((Nrows, Ncols))\n",
    "    time1 = time.time()\n",
    "    for i in range(Nrows):\n",
    "        for j in range(Ncols):\n",
    "            for k in range(A.shape[1]):\n",
    "                C[i,j] += A[i,k]*B[k,j]\n",
    "    time2 = time.time()\n",
    "    print(f\"Nr = {Nrows}, Nc = {Ncols} \\t Time taken for the multiplication is: {time2-time1}\")\n",
    "    return C, time2-time1\n",
    "\n",
    "def MatrixMultiplication_NumPy(A, B):\n",
    "    Nrows = A.shape[0]\n",
    "    Ncols = B.shape[1]\n",
    "    time1 = time.time()\n",
    "    C = np.matmul(A,B)\n",
    "    time2 = time.time()\n",
    "    print(f\"Nr = {Nrows}, Nc = {Ncols} \\t Time taken for the multiplication is: {time2-time1}\")\n",
    "    return C, time2-time1"
   ]
  },
  {
   "cell_type": "code",
   "execution_count": null,
   "metadata": {},
   "outputs": [],
   "source": [
    "def Time_by_Size(func, N):\n",
    "    \"Time taken by the function by varying the size of the matrix\"\n",
    "    A = [RandomMatrix(Nval, Nval) for Nval in N] \n",
    "    B = [RandomMatrix(Nval, Nval) for Nval in N] \n",
    "    time_by_n = []\n",
    "    for i in range(len(N)):\n",
    "        C, time1 = func(A[i], B[i])\n",
    "        time_by_n.append(time1)\n",
    "    return np.array(time_by_n)"
   ]
  },
  {
   "cell_type": "code",
   "execution_count": null,
   "metadata": {},
   "outputs": [],
   "source": [
    "N = [64, 128, 256, 512, 1024, 2048]\n",
    "N = np.arange(25, 525, 25)\n",
    "time_by_n_numpy = Time_by_Size(MatrixMultiplication_NumPy, N)\n",
    "time_by_n_naive = Time_by_Size(MatrixMultiplication_Naive, N)"
   ]
  },
  {
   "cell_type": "code",
   "execution_count": null,
   "metadata": {},
   "outputs": [],
   "source": [
    "plt.plot(N, time_by_n_naive, label = \"Naive\", color = \"blue\")\n",
    "plt.plot(N, time_by_n_numpy, label = \"NumPy\", color = \"green\")\n",
    "# Plot O(N^3) for comparison \n",
    "n3 = N**3\n",
    "plt.plot(N, n3, label = r\"$O(N^3)$\", color = \"red\", linestyle = \"--\")\n",
    "plt.yscale(\"log\")\n",
    "plt.xlabel(r\"Size of the matrix (N$\\times$N)\")\n",
    "plt.ylabel(\"Time (s)\")\n",
    "plt.legend()\n",
    "plt.show()"
   ]
  },
  {
   "cell_type": "markdown",
   "metadata": {},
   "source": [
    "# 2.2 - 2) Rounding Error"
   ]
  },
  {
   "cell_type": "code",
   "execution_count": null,
   "metadata": {},
   "outputs": [],
   "source": [
    "def RoundingError(func, Nrows, Ncols):\n",
    "    \" Rounding error using single-precision floating point numbers with respect to double-precision floating point numbers\"\n",
    "    A = RandomMatrix(Nrows, Ncols).astype(np.float32)\n",
    "    B = RandomMatrix(Nrows, Ncols).astype(np.float32)\n",
    "    C, time1 = func(A, B)\n",
    "    A = A.astype(np.float64)\n",
    "    B = B.astype(np.float64)\n",
    "    C = C.astype(np.float64)\n",
    "    C2, time2 = func(A, B)\n",
    "    return np.linalg.norm(C-C2)/np.linalg.norm(C2), time1, time2\n"
   ]
  },
  {
   "cell_type": "code",
   "execution_count": null,
   "metadata": {},
   "outputs": [],
   "source": [
    "N = [64, 128, 256, 512, 1024, 2048]"
   ]
  }
 ],
 "metadata": {
  "kernelspec": {
   "display_name": "base",
   "language": "python",
   "name": "python3"
  },
  "language_info": {
   "codemirror_mode": {
    "name": "ipython",
    "version": 3
   },
   "file_extension": ".py",
   "mimetype": "text/x-python",
   "name": "python",
   "nbconvert_exporter": "python",
   "pygments_lexer": "ipython3",
   "version": "3.12.2"
  }
 },
 "nbformat": 4,
 "nbformat_minor": 2
}
