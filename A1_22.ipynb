{
 "cells": [
  {
   "cell_type": "markdown",
   "metadata": {},
   "source": [
    "2.2 Implement the calculation of a matrix-matrix multiplication A*B = C, where A, B, and C are NxN matrices using Python using \n",
    "1) loops (naive implementation) \n",
    "2) using np.matmul from NumPy"
   ]
  },
  {
   "cell_type": "code",
   "execution_count": 12,
   "metadata": {},
   "outputs": [],
   "source": [
    "# First Naive Implementation of the algorithm\n",
    "import numpy as np \n",
    "import time as time \n",
    "\n",
    "def RandomMatrix(Nrows, Ncols):\n",
    "    return np.random.rand(Nrows, Ncols)"
   ]
  },
  {
   "cell_type": "code",
   "execution_count": 13,
   "metadata": {},
   "outputs": [],
   "source": [
    "def MatrixMultiplication_Naive(A, B):\n",
    "    Nrows = A.shape[0]\n",
    "    Ncols = B.shape[1]\n",
    "    C = np.zeros((Nrows, Ncols))\n",
    "    time1 = time.time()\n",
    "    for i in range(Nrows):\n",
    "        for j in range(Ncols):\n",
    "            for k in range(A.shape[1]):\n",
    "                C[i,j] += A[i,k]*B[k,j]\n",
    "    time2 = time.time()\n",
    "    print(\"Time taken for the multiplication is: \", time2-time1)\n",
    "    return C, time2-time1\n",
    "\n",
    "def MatrixMultiplication_NumPy(A, B):\n",
    "    time1 = time.time()\n",
    "    C = np.matmul(A,B)\n",
    "    time2 = time.time()\n",
    "    print(\"Time taken for the multiplication is: \", time2-time1)\n",
    "    return C, time2-time1"
   ]
  },
  {
   "cell_type": "code",
   "execution_count": 14,
   "metadata": {},
   "outputs": [],
   "source": [
    "def RoundingError(func, Nrows, Ncols):\n",
    "    \" Rounding error using single-precision floating point numbers with respect to double-precision floating point numbers\"\n",
    "    A = RandomMatrix(Nrows, Ncols).astype(np.float32)\n",
    "    B = RandomMatrix(Nrows, Ncols).astype(np.float32)\n",
    "    C, time1 = func(A, B)\n",
    "    A = A.astype(np.float64)\n",
    "    B = B.astype(np.float64)\n",
    "    C = C.astype(np.float64)\n",
    "    C2, time2 = func(A, B)\n",
    "    return np.linalg.norm(C-C2)/np.linalg.norm(C2), time1, time2\n"
   ]
  },
  {
   "cell_type": "code",
   "execution_count": 15,
   "metadata": {},
   "outputs": [],
   "source": [
    "def Time_by_Size(func, N):\n",
    "    \"Time taken by the function by varying the size of the matrix\"\n",
    "    A = [RandomMatrix(Nval, Nval) for Nval in N] \n",
    "    B = [RandomMatrix(Nval, Nval) for Nval in N] \n",
    "    C, time_by_n =[zip(*[func(A[i], B[i]) for i in range(len(N))])]\n",
    "    return time_by_n"
   ]
  },
  {
   "cell_type": "code",
   "execution_count": null,
   "metadata": {},
   "outputs": [
    {
     "name": "stdout",
     "output_type": "stream",
     "text": [
      "Time taken for the multiplication is:  0.03551006317138672\n",
      "Time taken for the multiplication is:  0.24625277519226074\n",
      "Time taken for the multiplication is:  0.8619680404663086\n",
      "Time taken for the multiplication is:  2.010434865951538\n",
      "Time taken for the multiplication is:  3.919128894805908\n",
      "Time taken for the multiplication is:  7.0616161823272705\n",
      "Time taken for the multiplication is:  11.510457992553711\n",
      "Time taken for the multiplication is:  16.986318111419678\n",
      "Time taken for the multiplication is:  24.293492317199707\n"
     ]
    }
   ],
   "source": [
    "N = np.arange(50, 2050, 50)\n",
    "time_by_n = Time_by_Size(MatrixMultiplication_Naive, N)"
   ]
  }
 ],
 "metadata": {
  "kernelspec": {
   "display_name": "base",
   "language": "python",
   "name": "python3"
  },
  "language_info": {
   "codemirror_mode": {
    "name": "ipython",
    "version": 3
   },
   "file_extension": ".py",
   "mimetype": "text/x-python",
   "name": "python",
   "nbconvert_exporter": "python",
   "pygments_lexer": "ipython3",
   "version": "3.12.2"
  }
 },
 "nbformat": 4,
 "nbformat_minor": 2
}
