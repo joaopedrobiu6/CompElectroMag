{
 "cells": [
  {
   "cell_type": "markdown",
   "metadata": {},
   "source": [
    "# Exercise 1: FEM in 1D"
   ]
  },
  {
   "cell_type": "markdown",
   "metadata": {},
   "source": [
    "\\begin{align}\n",
    "    \\tag{1}\n",
    "- \\frac{d}{dx} \\left(\\alpha \\frac{d f}{d x} \\right) + \\beta f = s, \\; a < x < b,\n",
    "\\end{align}\n",
    "\n",
    "\\begin{align}\n",
    "\\tag*{}\n",
    "f(a) = f_a\n",
    "\\end{align}\n",
    "\n",
    "\\begin{equation}\n",
    "\\tag*{}\n",
    "f(b) = f_b.\n",
    "\\end{equation}\n",
    "\n",
    "We will use the finite element method to solve this problem. We will use linear elements, so the solution will be piecewise linear. We will use the Galerkin method to derive the weak form of the problem. We will use the following nodal basis functions:\n",
    "\n",
    "\\begin{equation}\n",
    "\\tag{2}\n",
    "f(x) = \\sum_{i=1}^{N+1} f_i \\varphi_i(x).\n",
    "\\end{equation}\n",
    "\n",
    "We know that to obtain the weighted average of the residuals we want to minimize the residual $r = L[f] - s$. To do this, we set a weighted average of the residual to zero\n",
    "\n",
    "\\begin{equation}\n",
    "\\tag{3}\n",
    "\\langle w_i, r \\rangle = 0,\n",
    "\\end{equation}\n",
    "where $r$ is\n",
    "\\begin{equation}\n",
    "\\tag{4}\n",
    "r = - \\frac{d}{dx} \\left(\\alpha \\frac{d f}{d x} \\right) + \\beta f - s = L[f] -s,\n",
    "\\end{equation}\n",
    "\n",
    "With this, we can develop Eq. (3) as follows:\n",
    "\n",
    "\\begin{equation}\n",
    "\\begin{split}\n",
    "\\tag{5}\n",
    "\\langle w_i, r \\rangle &= \\int_a^b w_i \\left( - \\frac{d}{dx} \\left(\\alpha \\frac{d f}{d x} \\right) + \\beta f - s \\right) dx = \\\\\n",
    "&= \\int_a^b \\left(-w_i\\frac{d}{dx}\\alpha f' + w_i\\beta f - w_is \\right)dx = \\\\\n",
    "&= [-w_i\\alpha f']|^b_a + \\int_a^b \\left(w_i'\\alpha f' + w_i\\beta f - w_is \\right)dx = \\\\\n",
    "&= \\int_a^b \\left(w_i'\\alpha f' + w_i\\beta f - w_is \\right)dx = 0, \\quad i = 2, \\ldots, N.\n",
    "\\end{split}\n",
    "\\end{equation}\n",
    "\n",
    "The term $[-w_i\\alpha f']|^b_a$ is zero because $w_i(a) = w_i(b) = 0$.\n",
    "\n",
    "Now we can use the basis functions to write the equation (5) as\n",
    "\n",
    "\\begin{equation}\n",
    "\\tag{6}\n",
    "\\int_a^b \\left(w_i'\\alpha \\sum_{j=1}^{N+1} f_j \\varphi_j' + w_i\\beta \\sum_{j=1}^{N+1} f_j \\varphi_j - w_i s \\right)dx = 0, \\quad i = 2, \\ldots, N.\n",
    "\\end{equation}\n",
    "\n",
    "Using Galerkin's method, this is, $w_i = \\varphi_i$, and knowing that $f_1 = f(a)$ and $f_{N+1} = f(b)$, we can write the equation (6) as\n",
    "\n",
    "\\begin{equation}\n",
    "\\tag{7}\n",
    "\\int_a^b \\left(\\varphi_i'\\alpha \\sum_{j=1}^{N+1} f_j \\varphi_j' + \\varphi_i\\beta \\sum_{j=1}^{N+1} f_j \\varphi_j - \\varphi_i s \\right)dx = 0, \\quad i = 2, \\ldots, N, \\quad j = 2, \\ldots, N.\n",
    "\\end{equation}\n",
    "setting $j = 1$ and $j = N+1$ outside the sum so we can set this as a linear system with a square matrix.\n",
    "\n",
    "Separating the terms in the equation (7), in a linear system $Az = b$, we have\n",
    "\n",
    "\\begin{equation}\n",
    "\\tag{8}\n",
    "\\begin{split} \n",
    "&A_{ij} = \\int_a^b \\left(\\alpha\\varphi_i'\\varphi_j' + \\beta\\varphi_i\\varphi_j \\right)dx, \\\\\n",
    "&z_j = f_j, \\\\\n",
    "&b_i = \\int_a^b \\varphi_i s dx - (A_{i1}f_1 + A_{i,N+1}f_{N+1}).\n",
    "\\end{split}\n",
    "\\end{equation}\n",
    "\n",
    "Writing the linear system like this is useful because we obtain a square matrix $A$ that is symmetric."
   ]
  },
  {
   "cell_type": "code",
   "execution_count": 1,
   "metadata": {},
   "outputs": [],
   "source": [
    "import numpy as np\n",
    "import matplotlib.pyplot as plt"
   ]
  },
  {
   "cell_type": "code",
   "execution_count": null,
   "metadata": {},
   "outputs": [],
   "source": []
  }
 ],
 "metadata": {
  "kernelspec": {
   "display_name": "CEM-env",
   "language": "python",
   "name": "python3"
  },
  "language_info": {
   "codemirror_mode": {
    "name": "ipython",
    "version": 3
   },
   "file_extension": ".py",
   "mimetype": "text/x-python",
   "name": "python",
   "nbconvert_exporter": "python",
   "pygments_lexer": "ipython3",
   "version": "3.12.2"
  }
 },
 "nbformat": 4,
 "nbformat_minor": 2
}
