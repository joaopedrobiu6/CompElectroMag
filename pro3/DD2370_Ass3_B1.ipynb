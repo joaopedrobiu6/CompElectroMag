{
 "cells": [
  {
   "cell_type": "code",
   "execution_count": 1,
   "metadata": {
    "colab": {
     "base_uri": "https://localhost:8080/"
    },
    "id": "7s1GVU1FydSS",
    "outputId": "43225e4b-6894-4163-b8bd-1acbcc53d4d9"
   },
   "outputs": [],
   "source": [
    "# Code skeleton from Måns Andersson\n",
    "# https://colab.research.google.com/github/MaansAndersson/colab_test/blob/main/FEniCSx.ipynb\n",
    "\n",
    "import gmsh\n",
    "import numpy as np\n",
    "import petsc4py\n",
    "import petsc4py.PETSc\n",
    "import dolfinx"
   ]
  },
  {
   "cell_type": "markdown",
   "metadata": {
    "id": "000OIv3YuuqD"
   },
   "source": [
    "**B1.1 State and give a brief description of the basic steps for solving the Poisson equation using the FEM**\n",
    "\n",
    "\n",
    "\n",
    "\n",
    "*   We define the equation (Poisson)\n",
    "*   We define the boundary conditions\n",
    "*   We decide on basis and test functions to use\n",
    "*   The equation and boundary conditions are reformulated into a weak form\n",
    "*   The weak form is discretised onto the mesh, represented by a combination of basis functions\n",
    "*   We construct a linear system of equations from the above, applying the boundary conditions\n",
    "*   Then, we can solve the linear system\n",
    "\n",
    "**B1.2 What are the element and the assembly matrices? What is the relation between the element and assembly matrices?**\n",
    "\n",
    "The element matrix is a matrix representing a single element, being constructed from a set of nodes. The assembly matrix is constructed from the element matrixes.\n",
    "\n",
    "**B1.3 Use either a modified version of the code from the slides or some of the other tools shown during the lecture to create a suiting mesh.**\n",
    "\n",
    "**B1.3.2 What are two data structures used for storing information about the mesh? What are the numbers of elements and nodes in the mesh? How is it found? HINT: study mesh.geometry.**\n",
    "The two data structures used to represent the matrix are the el2no and no2xy matrices. The former represents each element as a sequence of nodes. The latter stores information about the x and y coordinates for each node.\n",
    "\n",
    "\n",
    "\n"
   ]
  },
  {
   "cell_type": "code",
   "execution_count": 2,
   "metadata": {
    "colab": {
     "base_uri": "https://localhost:8080/",
     "height": 368
    },
    "id": "-cnkZef37YO8",
    "outputId": "bdc4031c-cad9-4b9d-84fa-398705a45502"
   },
   "outputs": [
    {
     "name": "stdout",
     "output_type": "stream",
     "text": [
      "<mpi4py.MPI.Intracomm object at 0x12d4fba10>\n",
      "Info    : Meshing 1D...                                                                                      \n",
      "Info    : [  0%] Meshing curve 1 (Ellipse)\n",
      "Info    : [ 30%] Meshing curve 2 (Line)\n",
      "Info    : [ 50%] Meshing curve 3 (Line)\n",
      "Info    : [ 70%] Meshing curve 4 (Line)\n",
      "Info    : [ 90%] Meshing curve 5 (Line)\n",
      "Info    : Done meshing 1D (Wall 0.000427542s, CPU 0.00017s)\n",
      "Info    : Meshing 2D...\n",
      "Info    : Meshing surface 1 (Plane, Frontal-Delaunay)\n",
      "Info    : Done meshing 2D (Wall 0.00321754s, CPU 0.001178s)\n",
      "Info    : 81 nodes 165 elements\n"
     ]
    }
   ],
   "source": [
    "from mpi4py import MPI\n",
    "\n",
    "\n",
    "gmsh.initialize()\n",
    "model = gmsh.model()\n",
    "print(MPI.COMM_WORLD)\n",
    "mesh_comm = MPI.COMM_WORLD\n",
    "model_rank = 0\n",
    "if mesh_comm.rank == model_rank:\n",
    "  square = model.occ.addRectangle(0, 0, 0, 1, 1)\n",
    "  circle = model.occ.addDisk(0, 0, 0, 0.5, 0.5)\n",
    "  model_dim_tags = model.occ.cut([(2, square)], [(2, circle)])\n",
    "\n",
    "  target_geometry = model_dim_tags[0][0]\n",
    "  model.occ.synchronize()\n",
    "  model.add_physical_group(2, [square])\n",
    "  model.mesh.generate(2)\n",
    "msh, mt, ft = dolfinx.io.gmshio.model_to_mesh(model, mesh_comm, model_rank)\n",
    "\n"
   ]
  },
  {
   "cell_type": "code",
   "execution_count": 3,
   "metadata": {
    "id": "c9Lu0h6i_msa"
   },
   "outputs": [],
   "source": [
    "import dolfinx\n",
    "with dolfinx.io.XDMFFile(msh.comm, \"output/poisson.xdmf\", \"w\") as file:\n",
    "    file.write_mesh(msh)"
   ]
  },
  {
   "cell_type": "code",
   "execution_count": 28,
   "metadata": {
    "colab": {
     "base_uri": "https://localhost:8080/",
     "height": 211
    },
    "id": "k4Mn5uDa58L_",
    "outputId": "42ab0e02-5391-4922-b5cc-aca89539dca1"
   },
   "outputs": [
    {
     "ename": "TypeError",
     "evalue": "__init__(): incompatible function arguments. The following argument types are supported:\n    1. __init__(self, g: ndarray[dtype=float64, writable=False, order='C'], dofs: ndarray[dtype=int32, writable=False, shape=(*), order='C'], V: dolfinx.cpp.fem.FunctionSpace_float64) -> None\n    2. __init__(self, g: dolfinx.cpp.fem.Constant_float64, dofs: ndarray[dtype=int32, writable=False, shape=(*), order='C'], V: dolfinx.cpp.fem.FunctionSpace_float64) -> None\n    3. __init__(self, g: dolfinx.cpp.fem.Function_float64, dofs: ndarray[dtype=int32, writable=False, shape=(*), order='C']) -> None\n    4. __init__(self, g: dolfinx.cpp.fem.Function_float64, dofs: collections.abc.Sequence[ndarray[dtype=int32, writable=False, shape=(*), order='C']], V: dolfinx.cpp.fem.FunctionSpace_float64) -> None\n\nInvoked with types: dolfinx.cpp.fem.DirichletBC_float64, dolfinx.cpp.fem.Function_float64, ndarray, dolfinx.cpp.fem.FunctionSpace_float64",
     "output_type": "error",
     "traceback": [
      "\u001b[0;31m---------------------------------------------------------------------------\u001b[0m",
      "\u001b[0;31mTypeError\u001b[0m                                 Traceback (most recent call last)",
      "File \u001b[0;32m~/miniconda3/envs/CEM-env/lib/python3.10/site-packages/dolfinx/fem/bcs.py:230\u001b[0m, in \u001b[0;36mdirichletbc\u001b[0;34m(value, dofs, V)\u001b[0m\n\u001b[1;32m    229\u001b[0m \u001b[38;5;28;01mtry\u001b[39;00m:\n\u001b[0;32m--> 230\u001b[0m     bc \u001b[38;5;241m=\u001b[39m \u001b[43mbctype\u001b[49m\u001b[43m(\u001b[49m\u001b[43m_value\u001b[49m\u001b[43m,\u001b[49m\u001b[43m \u001b[49m\u001b[43mdofs\u001b[49m\u001b[43m,\u001b[49m\u001b[43m \u001b[49m\u001b[43mV\u001b[49m\u001b[43m)\u001b[49m\n\u001b[1;32m    231\u001b[0m \u001b[38;5;28;01mexcept\u001b[39;00m \u001b[38;5;167;01mTypeError\u001b[39;00m:\n",
      "\u001b[0;31mTypeError\u001b[0m: __init__(): incompatible function arguments. The following argument types are supported:\n    1. __init__(self, g: ndarray[dtype=float64, writable=False, order='C'], dofs: ndarray[dtype=int32, writable=False, shape=(*), order='C'], V: dolfinx.cpp.fem.FunctionSpace_float64) -> None\n    2. __init__(self, g: dolfinx.cpp.fem.Constant_float64, dofs: ndarray[dtype=int32, writable=False, shape=(*), order='C'], V: dolfinx.cpp.fem.FunctionSpace_float64) -> None\n    3. __init__(self, g: dolfinx.cpp.fem.Function_float64, dofs: ndarray[dtype=int32, writable=False, shape=(*), order='C']) -> None\n    4. __init__(self, g: dolfinx.cpp.fem.Function_float64, dofs: collections.abc.Sequence[ndarray[dtype=int32, writable=False, shape=(*), order='C']], V: dolfinx.cpp.fem.FunctionSpace_float64) -> None\n\nInvoked with types: dolfinx.cpp.fem.DirichletBC_float64, dolfinx.cpp.fem.Function_float64, ndarray, dolfinx.fem.function.FunctionSpace",
      "\nDuring handling of the above exception, another exception occurred:\n",
      "\u001b[0;31mTypeError\u001b[0m                                 Traceback (most recent call last)",
      "Cell \u001b[0;32mIn[28], line 17\u001b[0m\n\u001b[1;32m     15\u001b[0m facets \u001b[38;5;241m=\u001b[39m dolfinx\u001b[38;5;241m.\u001b[39mmesh\u001b[38;5;241m.\u001b[39mlocate_entities_boundary(msh , msh\u001b[38;5;241m.\u001b[39mtopology\u001b[38;5;241m.\u001b[39mdim \u001b[38;5;241m-\u001b[39m \u001b[38;5;241m1\u001b[39m, \u001b[38;5;28;01mlambda\u001b[39;00m x: np\u001b[38;5;241m.\u001b[39mfull(x\u001b[38;5;241m.\u001b[39mshape[\u001b[38;5;241m1\u001b[39m], \u001b[38;5;28;01mTrue\u001b[39;00m))\n\u001b[1;32m     16\u001b[0m dofs \u001b[38;5;241m=\u001b[39m dolfinx\u001b[38;5;241m.\u001b[39mfem\u001b[38;5;241m.\u001b[39mlocate_dofs_topological(W, \u001b[38;5;241m1\u001b[39m, facets)\n\u001b[0;32m---> 17\u001b[0m bc1 \u001b[38;5;241m=\u001b[39m \u001b[43mdolfinx\u001b[49m\u001b[38;5;241;43m.\u001b[39;49m\u001b[43mfem\u001b[49m\u001b[38;5;241;43m.\u001b[39;49m\u001b[43mdirichletbc\u001b[49m\u001b[43m(\u001b[49m\u001b[43mf_h\u001b[49m\u001b[43m,\u001b[49m\u001b[43m \u001b[49m\u001b[43mdofs\u001b[49m\u001b[43m,\u001b[49m\u001b[43m \u001b[49m\u001b[43mW\u001b[49m\u001b[43m)\u001b[49m\n\u001b[1;32m     18\u001b[0m bc2 \u001b[38;5;241m=\u001b[39m dolfinx\u001b[38;5;241m.\u001b[39mfem\u001b[38;5;241m.\u001b[39mdirichletbc(f_h, dofs, W)\n\u001b[1;32m     19\u001b[0m bcs \u001b[38;5;241m=\u001b[39m [ bc1 , bc2 ]\n",
      "File \u001b[0;32m~/miniconda3/envs/CEM-env/lib/python3.10/site-packages/dolfinx/fem/bcs.py:232\u001b[0m, in \u001b[0;36mdirichletbc\u001b[0;34m(value, dofs, V)\u001b[0m\n\u001b[1;32m    230\u001b[0m         bc \u001b[38;5;241m=\u001b[39m bctype(_value, dofs, V)\n\u001b[1;32m    231\u001b[0m     \u001b[38;5;28;01mexcept\u001b[39;00m \u001b[38;5;167;01mTypeError\u001b[39;00m:\n\u001b[0;32m--> 232\u001b[0m         bc \u001b[38;5;241m=\u001b[39m \u001b[43mbctype\u001b[49m\u001b[43m(\u001b[49m\u001b[43m_value\u001b[49m\u001b[43m,\u001b[49m\u001b[43m \u001b[49m\u001b[43mdofs\u001b[49m\u001b[43m,\u001b[49m\u001b[43m \u001b[49m\u001b[43mV\u001b[49m\u001b[38;5;241;43m.\u001b[39;49m\u001b[43m_cpp_object\u001b[49m\u001b[43m)\u001b[49m\n\u001b[1;32m    233\u001b[0m \u001b[38;5;28;01melse\u001b[39;00m:\n\u001b[1;32m    234\u001b[0m     bc \u001b[38;5;241m=\u001b[39m bctype(_value, dofs)\n",
      "\u001b[0;31mTypeError\u001b[0m: __init__(): incompatible function arguments. The following argument types are supported:\n    1. __init__(self, g: ndarray[dtype=float64, writable=False, order='C'], dofs: ndarray[dtype=int32, writable=False, shape=(*), order='C'], V: dolfinx.cpp.fem.FunctionSpace_float64) -> None\n    2. __init__(self, g: dolfinx.cpp.fem.Constant_float64, dofs: ndarray[dtype=int32, writable=False, shape=(*), order='C'], V: dolfinx.cpp.fem.FunctionSpace_float64) -> None\n    3. __init__(self, g: dolfinx.cpp.fem.Function_float64, dofs: ndarray[dtype=int32, writable=False, shape=(*), order='C']) -> None\n    4. __init__(self, g: dolfinx.cpp.fem.Function_float64, dofs: collections.abc.Sequence[ndarray[dtype=int32, writable=False, shape=(*), order='C']], V: dolfinx.cpp.fem.FunctionSpace_float64) -> None\n\nInvoked with types: dolfinx.cpp.fem.DirichletBC_float64, dolfinx.cpp.fem.Function_float64, ndarray, dolfinx.cpp.fem.FunctionSpace_float64"
     ]
    }
   ],
   "source": [
    "# Define function space\n",
    "import basix\n",
    "import ufl\n",
    "\n",
    "P1 = basix.ufl.element(\"Lagrange\", msh.basix_cell() ,1)\n",
    "W = dolfinx.fem.functionspace(msh, P1)\n",
    "\n",
    "def f(x):\n",
    "    return np.isclose(x[0], 0.0) | np.isclose(x[0], 1.0) | np.isclose(x[1], 0.0) | np.isclose(x[1], 1.0)\n",
    "\n",
    "f_h = dolfinx.fem.Function(W)\n",
    "f_h.interpolate(f)\n",
    "\n",
    "# Define boundary conditions\n",
    "facets = dolfinx.mesh.locate_entities_boundary(msh , msh.topology.dim - 1, lambda x: np.full(x.shape[1], True))\n",
    "dofs = dolfinx.fem.locate_dofs_topological(W, 1, facets)\n",
    "bc1 = dolfinx.fem.dirichletbc(f_h, dofs, W)\n",
    "bc2 = dolfinx.fem.dirichletbc(f_h, dofs, W)\n",
    "bcs = [ bc1 , bc2 ]\n",
    "# Define variational problem\n",
    "u = ufl.TrialFunction(W)\n",
    "v = ufl.TestFunction(W)\n",
    "dx = ufl.Measure(\"dx\", domain=msh)\n",
    "a = ufl.inner(ufl.grad(u), ufl.grad(v))*dx\n",
    "\n",
    "\n",
    "\n",
    "\n",
    "L = ufl.inner(f, v)*dx\n",
    "# Compute solution\n",
    "petsc_opt = { \" ... \" }\n",
    "solver = dolfinx.fem.petsc.LinearProblem (a , L, bcs, petsc_options = petsc_opt)\n",
    "uh = solver.solve()\n",
    "#Andersson (KTH) Lecture on FEM in FEniCSx 2024 18 / 29\n",
    "\n",
    "\n"
   ]
  },
  {
   "cell_type": "code",
   "execution_count": null,
   "metadata": {
    "colab": {
     "base_uri": "https://localhost:8080/",
     "height": 211
    },
    "id": "dVIsNuDXSCOh",
    "outputId": "c24090bc-06ca-40a3-f4e5-e19754c127bd"
   },
   "outputs": [
    {
     "ename": "NameError",
     "evalue": "name 'ufl' is not defined",
     "output_type": "error",
     "traceback": [
      "\u001b[0;31m---------------------------------------------------------------------------\u001b[0m",
      "\u001b[0;31mNameError\u001b[0m                                 Traceback (most recent call last)",
      "Cell \u001b[0;32mIn[16], line 13\u001b[0m\n\u001b[1;32m     11\u001b[0m cell_candidates \u001b[38;5;241m=\u001b[39m dolfinx\u001b[38;5;241m.\u001b[39mgeometry\u001b[38;5;241m.\u001b[39mcompute_collisions_points(bb_tree, x0)\n\u001b[1;32m     12\u001b[0m cell \u001b[38;5;241m=\u001b[39m dolfinx\u001b[38;5;241m.\u001b[39mgeometry\u001b[38;5;241m.\u001b[39mcompute_colliding_cells(msh, cell_candidates, x0)\u001b[38;5;241m.\u001b[39marray\n\u001b[0;32m---> 13\u001b[0m \u001b[43mufl\u001b[49m\u001b[38;5;241m.\u001b[39meval(x0, cell)\n",
      "\u001b[0;31mNameError\u001b[0m: name 'ufl' is not defined"
     ]
    }
   ],
   "source": [
    "def outer_box(x):\n",
    "    return np.isclose(x[0], 0.0)+np.isclose(x[0], 1.0)+np.isclose(x[1], 0.0)+np.isclose(x[1], 1.0)\n",
    "\n",
    "dim_surface = (msh.topology.dim - 1)\n",
    "facets0 = dolfinx.mesh.locate_entities_boundary(msh, dim=dim_surface, marker=outer_box)\n",
    "dofs = dolfinx.fem.locate_dofs_topological(V=W, entity_dim=dim_surface, entities=facets0)\n",
    "bc0 = dolfinx.fem.dirichletbc(0.0, dofs, W)\n",
    "\n",
    "bb_tree = dolfinx.geometry.bb_tree(msh, 2)\n",
    "x0 = np.array([[0.9, 0.9, 0.]], dtype=np.float64)\n",
    "cell_candidates = dolfinx.geometry.compute_collisions_points(bb_tree, x0)\n",
    "cell = dolfinx.geometry.compute_colliding_cells(msh, cell_candidates, x0).array\n"
   ]
  },
  {
   "cell_type": "code",
   "execution_count": null,
   "metadata": {},
   "outputs": [],
   "source": []
  }
 ],
 "metadata": {
  "colab": {
   "provenance": []
  },
  "kernelspec": {
   "display_name": "CEM-env",
   "language": "python",
   "name": "python3"
  },
  "language_info": {
   "codemirror_mode": {
    "name": "ipython",
    "version": 3
   },
   "file_extension": ".py",
   "mimetype": "text/x-python",
   "name": "python",
   "nbconvert_exporter": "python",
   "pygments_lexer": "ipython3",
   "version": "3.10.16"
  }
 },
 "nbformat": 4,
 "nbformat_minor": 0
}
