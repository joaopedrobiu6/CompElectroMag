{
 "cells": [
  {
   "cell_type": "markdown",
   "metadata": {},
   "source": [
    "# B.1 MEEP to model a 3D Cavity with PEC BC"
   ]
  },
  {
   "cell_type": "code",
   "execution_count": 1,
   "metadata": {},
   "outputs": [],
   "source": [
    "import meep as mp\n",
    "import numpy as np\n",
    "import matplotlib.pyplot as plt"
   ]
  },
  {
   "cell_type": "code",
   "execution_count": null,
   "metadata": {},
   "outputs": [],
   "source": [
    "cell = mp.Vector3(10, 10, 10)\n",
    "geometry = [mp.Block(mp.Vector3(10, 10, 10), center=mp.Vector3(0, 0, 0), material=mp.Medium(epsilon=1))]\n",
    "resolution = 10"
   ]
  },
  {
   "cell_type": "code",
   "execution_count": 3,
   "metadata": {},
   "outputs": [
    {
     "name": "stdout",
     "output_type": "stream",
     "text": [
      "-----------\n",
      "Initializing structure...\n",
      "time for choose_chunkdivision = 0.000469923 s\n",
      "Working in 3D dimensions.\n",
      "Computational cell is 10 x 10 x 10 with resolution 10\n",
      "     block, center = (0,0,0)\n",
      "          size (10,10,10)\n",
      "          axes (1,0,0), (0,1,0), (0,0,1)\n",
      "          dielectric constant epsilon diagonal = (12,12,12)\n",
      "time for set_epsilon = 3.04299 s\n",
      "-----------\n"
     ]
    }
   ],
   "source": [
    "sim = mp.Simulation(cell_size=cell, geometry=geometry, resolution=resolution)\n",
    "\n",
    "from random import random\n",
    "from random import seed\n",
    "seed(1)\n",
    "def field_func(p):\n",
    "    rr = random() - 0.5\n",
    "    return rr\n",
    "\n",
    "sim.initialize_field(mp.Ex, field_func)\n",
    "sim.initialize_field(mp.Ey, field_func)\n",
    "sim.initialize_field(mp.Ez, field_func)\n",
    "\n",
    "eps_data = sim.get_efield_z()"
   ]
  },
  {
   "cell_type": "code",
   "execution_count": 4,
   "metadata": {},
   "outputs": [
    {
     "data": {
      "application/vnd.jupyter.widget-view+json": {
       "model_id": "5a0f6731f7394e0b8f67fb69c4a51709",
       "version_major": 2,
       "version_minor": 0
      },
      "text/plain": [
       "FloatProgress(value=0.0, description='0% done ', max=200.0)"
      ]
     },
     "metadata": {},
     "output_type": "display_data"
    },
    {
     "name": "stdout",
     "output_type": "stream",
     "text": [
      "Meep progress: 38.550000000000004/200.0 = 19.3% done in 4.0s, 16.8s to go\n",
      "on time step 772 (time=38.6), 0.00518695 s/step\n",
      "Meep progress: 76.9/200.0 = 38.5% done in 8.0s, 12.8s to go\n",
      "on time step 1539 (time=76.95), 0.00521931 s/step\n",
      "Meep progress: 115.75/200.0 = 57.9% done in 12.0s, 8.7s to go\n",
      "on time step 2316 (time=115.8), 0.00514928 s/step\n",
      "Meep progress: 154.55/200.0 = 77.3% done in 16.0s, 4.7s to go\n",
      "on time step 3092 (time=154.6), 0.00515757 s/step\n",
      "Meep progress: 193.20000000000002/200.0 = 96.6% done in 20.0s, 0.7s to go\n",
      "on time step 3865 (time=193.25), 0.00517789 s/step\n",
      "run 0 finished at t = 200.0 (4000 timesteps)\n"
     ]
    }
   ],
   "source": [
    "Ex = []\n",
    "Ey = []\n",
    "Ez = []\n",
    "\n",
    "def print_field(sim):\n",
    "    fpx = sim.get_field_point(mp.Ex, mp.Vector3(0,0,0)).real\n",
    "    Ex.append(fpx)\n",
    "    fpy = sim.get_field_point(mp.Ey, mp.Vector3(0,0,0)).real\n",
    "    Ey.append(fpy)\n",
    "    fpz = sim.get_field_point(mp.Ez, mp.Vector3(0,0,0)).real\n",
    "    Ez.append(fpz)\n",
    "sim.run(mp.after_time(0, print_field), until=200)"
   ]
  },
  {
   "cell_type": "code",
   "execution_count": 5,
   "metadata": {},
   "outputs": [],
   "source": [
    "Ex = np.array(Ex)\n",
    "Ey = np.array(Ey)\n",
    "Ez = np.array(Ez)"
   ]
  },
  {
   "cell_type": "code",
   "execution_count": 6,
   "metadata": {},
   "outputs": [],
   "source": [
    "Ex_fft = np.fft.fft(Ex)\n",
    "Ey_fft = np.fft.fft(Ey)\n",
    "Ez_fft = np.fft.fft(Ez)\n",
    "\n",
    "omega = np.fft.fftfreq(Ex.size, sim.meep_time()/Ex.size)"
   ]
  },
  {
   "cell_type": "code",
   "execution_count": 7,
   "metadata": {},
   "outputs": [
    {
     "data": {
      "image/png": "[encoded data removed]",
      "text/plain": [
       "<Figure size 640x480 with 1 Axes>"
      ]
     },
     "metadata": {},
     "output_type": "display_data"
    }
   ],
   "source": [
    "E_fft = np.sqrt(Ex_fft**2 + Ey_fft**2 + Ez_fft**2)\n",
    "\n",
    "# plot only the positive frequencies\n",
    "plt.plot(omega[:Ex.size//2], np.abs(E_fft[:Ex.size//2]))\n",
    "plt.xlabel(r'$\\omega$ (c/a)')\n",
    "plt.ylabel(r'$\\left| \\mathbf{E}(\\omega) \\right|$')\n",
    "plt.show()"
   ]
  }
 ],
 "metadata": {
  "kernelspec": {
   "display_name": "mp-env",
   "language": "python",
   "name": "python3"
  },
  "language_info": {
   "codemirror_mode": {
    "name": "ipython",
    "version": 3
   },
   "file_extension": ".py",
   "mimetype": "text/x-python",
   "name": "python",
   "nbconvert_exporter": "python",
   "pygments_lexer": "ipython3",
   "version": "3.11.5"
  },
  "toc": {
   "base_numbering": 1,
   "nav_menu": {},
   "number_sections": true,
   "sideBar": true,
   "skip_h1_title": false,
   "title_cell": "Table of Contents",
   "title_sidebar": "Contents",
   "toc_cell": false,
   "toc_position": {},
   "toc_section_display": true,
   "toc_window_display": false
  }
 },
 "nbformat": 4,
 "nbformat_minor": 2
}
