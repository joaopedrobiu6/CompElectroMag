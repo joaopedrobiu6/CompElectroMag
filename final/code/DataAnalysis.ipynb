{
 "cells": [
  {
   "cell_type": "code",
   "execution_count": 2,
   "metadata": {},
   "outputs": [],
   "source": [
    "import numpy as np\n",
    "import matplotlib.pyplot as plt\n",
    "import scipy \n",
    "import pandas as pd\n",
    "import plotly.express as px\n",
    "import plotly.graph_objects as go\n",
    "from scipy.constants import e, m_e, m_p, c"
   ]
  },
  {
   "cell_type": "code",
   "execution_count": 3,
   "metadata": {},
   "outputs": [],
   "source": [
    "filename = \"electron_trajectory_5.0e+06_45.0\"\n",
    "Re = 6378137\n",
    "K = 5e6 * e\n",
    "pitch_angle = filename.split(\"_\")[-1]"
   ]
  },
  {
   "cell_type": "code",
   "execution_count": 4,
   "metadata": {},
   "outputs": [
    {
     "data": {
      "text/plain": [
       "0.9753893372102702"
      ]
     },
     "execution_count": 4,
     "metadata": {},
     "output_type": "execute_result"
    }
   ],
   "source": [
    "K = (1e7 * e)  # Kinetic energy in Joules\n",
    "v_mod = (c / np.sqrt(1 + (m_e * c**2) / K))/c  # Speed\n",
    "v_mod"
   ]
  },
  {
   "cell_type": "code",
   "execution_count": 8,
   "metadata": {},
   "outputs": [
    {
     "name": "stdout",
     "output_type": "stream",
     "text": [
      "459507.81870879815\n",
      "25512548\n"
     ]
    }
   ],
   "source": [
    "B0 = 3.07e-5  # Magnetic field in Tesla\n",
    "print(4*Re*((B0*e)/(m_e*c)))\n",
    "print(4*Re)"
   ]
  },
  {
   "cell_type": "code",
   "execution_count": null,
   "metadata": {},
   "outputs": [],
   "source": [
    "# Load the data\n",
    "data = pd.read_csv(f'{filename}.csv')\n",
    "data"
   ]
  },
  {
   "cell_type": "code",
   "execution_count": 32,
   "metadata": {},
   "outputs": [],
   "source": [
    "# plot the data in 3D with plotly\n",
    "fig = go.Figure()\n",
    "fig.add_trace(go.Scatter3d(x=data[\"x\"] / Re, y=data[\"y\"]/ Re, z=data[\"z\"] / Re, mode='lines', name='Trajectory'))\n",
    "fig.update_layout(title='Proton trajectory', scene=dict(aspectmode='cube'), scene_aspectmode='cube')\n",
    "fig.update_layout(scene=dict(xaxis_title='X', yaxis_title='Y', zaxis_title='Z'))\n",
    "fig.update_layout(scene=dict(xaxis=dict(range=[-5, 5]), yaxis=dict(range=[-5, 5]), zaxis=dict(range=[-5, 5])))\n",
    "#add sphere in the center of the earth\n",
    "u = np.linspace(0, 2 * np.pi, 100)\n",
    "v = np.linspace(0, np.pi, 100)\n",
    "x = np.outer(np.cos(u), np.sin(v))\n",
    "y = np.outer(np.sin(u), np.sin(v))\n",
    "z = np.outer(np.ones(np.size(u)), np.cos(v))\n",
    "fig.add_trace(go.Surface(x=x, y=y, z=z, colorscale='earth', showscale=False))\n",
    "fig.write_html(f\"{filename}.html\")"
   ]
  },
  {
   "cell_type": "code",
   "execution_count": 33,
   "metadata": {},
   "outputs": [],
   "source": [
    "m = m_e\n",
    "v_mod_1 = c / np.sqrt(1 + (m * c**2) / K)  # Speed\n",
    "v_mod_2 = c *np.sqrt(1- (m*c**2/(m*c**2 + K))**2)"
   ]
  },
  {
   "cell_type": "code",
   "execution_count": null,
   "metadata": {},
   "outputs": [],
   "source": [
    "plt.figure(figsize=(10, 5))\n",
    "plt.plot(data[\"t\"], np.sqrt(data[\"x\"]**2 + data[\"y\"]**2 + data[\"z\"]**2)/Re, label=\"r\", color=\"blue\")\n",
    "plt.legend()\n",
    "plt.show()"
   ]
  },
  {
   "cell_type": "code",
   "execution_count": null,
   "metadata": {},
   "outputs": [],
   "source": [
    "import numpy as np\n",
    "import matplotlib.pyplot as plt\n",
    "\n",
    "def analyze_particle_confinement(t, x, y, z, vx, vy, vz, Bx, By, Bz):\n",
    "    \"\"\"\n",
    "    Analyze particle confinement in a magnetic field.\n",
    "\n",
    "    Parameters:\n",
    "    t  : array-like\n",
    "        Time steps.\n",
    "    x, y, z : array-like\n",
    "        Particle positions over time.\n",
    "    vx, vy, vz : array-like\n",
    "        Particle velocities over time.\n",
    "    Bx, By, Bz : array-like\n",
    "        Magnetic field components over time.\n",
    "    \"\"\"\n",
    "    # Compute magnetic field magnitude\n",
    "    B_magnitude = np.sqrt(Bx**2 + By**2 + Bz**2)\n",
    "    \n",
    "    # Compute velocity magnitude\n",
    "    v_magnitude = np.sqrt(vx**2 + vy**2 + vz**2)\n",
    "    \n",
    "    # Compute dot product v · B\n",
    "    v_dot_B = vx * Bx + vy * By + vz * Bz\n",
    "    \n",
    "    # Parallel velocity\n",
    "    v_parallel = v_dot_B / B_magnitude\n",
    "    \n",
    "    # Perpendicular velocity\n",
    "    v_perpendicular = np.sqrt(v_magnitude**2 - v_parallel**2)\n",
    "    \n",
    "    # Magnetic moment (normalized units: μ = v_perp^2 / B)\n",
    "    magnetic_moment = v_perpendicular**2 / B_magnitude\n",
    "    \n",
    "    # Plot particle trajectory\n",
    "    fig = plt.figure(figsize=(12, 8))\n",
    "    ax1 = fig.add_subplot(221, projection='3d')\n",
    "    ax1.plot(x/Re, y/Re, z/Re, label='Particle Trajectory')\n",
    "    ax1.set_xlabel(r'X/R$_E$')\n",
    "    ax1.set_ylabel(r'Y/R$_E$')\n",
    "    ax1.set_zlabel(r'Z/R$_E$')\n",
    "    ax1.set_xlim(-5, 5)\n",
    "    ax1.set_ylim(-5, 5)\n",
    "    ax1.set_zlim(-5, 5)\n",
    "    ax1.set_title('Particle Trajectory')\n",
    "    ax1.legend()\n",
    "    \n",
    "    # Plot v_parallel and v_perpendicular\n",
    "    ax2 = fig.add_subplot(222)\n",
    "    ax2.plot(t, v_parallel/c, label=r'$v_\\parallel$', color='blue')\n",
    "    ax2.plot(t, v_perpendicular/c, label=r'$v_\\perp$', color='red')\n",
    "    ax2.set_xlabel('Time')\n",
    "    ax2.set_ylabel(r'Velocity [c$^{-1}$]')\n",
    "    ax2.set_title('Parallel and Perpendicular Velocities')\n",
    "    ax2.legend()\n",
    "    \n",
    "    # Plot magnetic moment over time\n",
    "    ax3 = fig.add_subplot(223)\n",
    "    ax3.plot(t, magnetic_moment, label=r'$\\mu$', color='green')\n",
    "    ax3.set_xlabel('Time')\n",
    "    ax3.set_ylabel('Magnetic Moment')\n",
    "    ax3.set_title('Magnetic Moment (μ) Over Time')\n",
    "    ax3.legend()\n",
    "    \n",
    "    # Plot magnetic field magnitude\n",
    "    ax4 = fig.add_subplot(224)\n",
    "    ax4.plot(t, B_magnitude, label='|B|', color='purple')\n",
    "    ax4.set_xlabel('Time')\n",
    "    ax4.set_ylabel('Magnetic Field Magnitude')\n",
    "    ax4.set_title('Magnetic Field Magnitude Over Time')\n",
    "    ax4.legend()\n",
    "    \n",
    "    plt.tight_layout()\n",
    "    plt.show()\n",
    "    \n",
    "    # compute turning points by finding sign changes in v_parallel\n",
    "    turning_points = np.where(np.diff(np.sign(v_parallel)))[0]\n",
    "    print(f\"Turning points: {len(turning_points)}\")\n",
    "    \n",
    "    # Check if the particle stays within a certain distance\n",
    "    max_distance = (np.sqrt(x**2 + y**2 + z**2).max())/Re\n",
    "    confinement_radius = 10  # Example threshold in normalized units\n",
    "    escaped = max_distance > confinement_radius\n",
    "    print(f\"Max distance: {max_distance}\\nEscaped: {escaped}\")\n",
    "    \n",
    "    # Check magnetic moment consistency\n",
    "    mu_variation = np.std(magnetic_moment) / np.mean(magnetic_moment)\n",
    "    print(f\"mu_variation: {mu_variation}\")\n",
    "    significant_variation = mu_variation > 0.1  # Example threshold\n",
    "    print(f\"Significant variation: {significant_variation}\")\n",
    "\n",
    "    # Classification\n",
    "    if len(turning_points) > 1 and not escaped and not significant_variation:\n",
    "        return \"Confined\"\n",
    "    else:\n",
    "        return \"Not Confined\"\n",
    "\n",
    "# Call the analysis function\n",
    "analyze_particle_confinement(data[\"t\"], data[\"x\"], data[\"y\"], data[\"z\"], data[\"vx\"], data[\"vy\"], data[\"vz\"], data[\"Bx\"], data[\"By\"], data[\"Bz\"])\n"
   ]
  },
  {
   "cell_type": "code",
   "execution_count": null,
   "metadata": {},
   "outputs": [],
   "source": []
  }
 ],
 "metadata": {
  "kernelspec": {
   "display_name": "base",
   "language": "python",
   "name": "python3"
  },
  "language_info": {
   "codemirror_mode": {
    "name": "ipython",
    "version": 3
   },
   "file_extension": ".py",
   "mimetype": "text/x-python",
   "name": "python",
   "nbconvert_exporter": "python",
   "pygments_lexer": "ipython3",
   "version": "3.12.2"
  }
 },
 "nbformat": 4,
 "nbformat_minor": 2
}
